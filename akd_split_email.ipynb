{
 "cells": [
  {
   "cell_type": "code",
   "execution_count": 3,
   "metadata": {},
   "outputs": [
    {
     "name": "stdout",
     "output_type": "stream",
     "text": [
      "Enter email address:test123@hotmail.com\n",
      "test123@hotmail.com\n",
      "UserID: test123\n",
      "Domain: hotmail.com\n",
      "Userid: test123\n",
      "domainid: hotmail.com\n"
     ]
    }
   ],
   "source": [
    "#Split email address\n",
    "email=input(\"Enter email address:\").strip()\n",
    "print (email)\n",
    "user=[]\n",
    "user=email.split('@')\n",
    "print ('UserID:',user[0])\n",
    "print ('Domain:',user[1])\n",
    "emailid=email[0:email.index(\"@\")]\n",
    "domain=email[email.index('@')+1:]\n",
    "print ('Userid:',emailid)\n",
    "print ('domainid:',domain)"
   ]
  },
  {
   "cell_type": "code",
   "execution_count": null,
   "metadata": {
    "collapsed": true
   },
   "outputs": [],
   "source": []
  }
 ],
 "metadata": {
  "kernelspec": {
   "display_name": "Python 3",
   "language": "python",
   "name": "python3"
  },
  "language_info": {
   "codemirror_mode": {
    "name": "ipython",
    "version": 3
   },
   "file_extension": ".py",
   "mimetype": "text/x-python",
   "name": "python",
   "nbconvert_exporter": "python",
   "pygments_lexer": "ipython3",
   "version": "3.6.3"
  }
 },
 "nbformat": 4,
 "nbformat_minor": 2
}
