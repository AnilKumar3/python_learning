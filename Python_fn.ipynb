{
 "cells": [
  {
   "cell_type": "markdown",
   "metadata": {},
   "source": [
    "## Temp converture"
   ]
  },
  {
   "cell_type": "code",
   "execution_count": 39,
   "metadata": {},
   "outputs": [
    {
     "name": "stdout",
     "output_type": "stream",
     "text": [
      "Welcome to Tempreture Converter\n",
      "what you want to do? (C)el --> Far OR   (F)ar --> CelC\n",
      "value: C\n",
      "Enter Value in Cel:22\n",
      "Value in Cel: 22\n",
      "Temp in FarH: 71.6\n",
      "Want to Continue (Y/N):Y\n",
      "what you want to do? (C)el --> Far OR   (F)ar --> CelC\n",
      "value: C\n",
      "Enter Value in Cel:15\n",
      "Value in Cel: 15\n",
      "Temp in FarH: 59.0\n",
      "Want to Continue (Y/N):y\n",
      "what you want to do? (C)el --> Far OR   (F)ar --> Celf\n",
      "value: f\n",
      "Enter value in FarH:110\n",
      "Value in FarH: 110\n",
      "Temp in Cel: 43.333333333333336\n",
      "Want to Continue (Y/N):y\n",
      "what you want to do? (C)el --> Far OR   (F)ar --> Cels\n",
      "value: s\n",
      "Wrong value\n",
      "Want to Continue (Y/N):n\n",
      "Have a good day\n"
     ]
    }
   ],
   "source": [
    "def c2f (cel):\n",
    "    value=32.+cel*9./5\n",
    "    print ('Temp in FarH:',value)\n",
    "def f2c (far):\n",
    "    value1=(far-32.)*5./9\n",
    "    print ('Temp in Cel:', value1)\n",
    "\n",
    "print ('Welcome to Tempreture Converter')\n",
    "ans='Y'\n",
    "while (ans=='Y'):\n",
    "    value=input('what you want to do? (C)el --> Far OR   (F)ar --> Cel')\n",
    "    print ('value:', value)\n",
    "    if value.upper()=='C':\n",
    "        cel=int(input('Enter Value in Cel:'))\n",
    "        print('Value in Cel:',cel)\n",
    "        c2f(cel)\n",
    "    elif value.upper()=='F':\n",
    "        far=int(input('Enter value in FarH:'))\n",
    "        print('Value in FarH:',far)\n",
    "        f2c(far)\n",
    "    else:\n",
    "        print ('Wrong value')\n",
    "    choice=input('Want to Continue (Y/N):')\n",
    "    if choice.upper()!='Y':\n",
    "        break\n",
    "print ('Have a good day')"
   ]
  },
  {
   "cell_type": "code",
   "execution_count": 32,
   "metadata": {},
   "outputs": [
    {
     "name": "stdout",
     "output_type": "stream",
     "text": [
      "Celious: 15.555555555555555\n"
     ]
    }
   ],
   "source": [
    "f_to_c(60\n",
    "      )"
   ]
  },
  {
   "cell_type": "code",
   "execution_count": 7,
   "metadata": {},
   "outputs": [
    {
     "name": "stdout",
     "output_type": "stream",
     "text": [
      "Celious: 43.333333333333336\n"
     ]
    }
   ],
   "source": [
    "f_to_c(110)"
   ]
  },
  {
   "cell_type": "code",
   "execution_count": null,
   "metadata": {},
   "outputs": [],
   "source": []
  }
 ],
 "metadata": {
  "kernelspec": {
   "display_name": "Python [conda env:anaconda3]",
   "language": "python",
   "name": "conda-env-anaconda3-py"
  },
  "language_info": {
   "codemirror_mode": {
    "name": "ipython",
    "version": 3
   },
   "file_extension": ".py",
   "mimetype": "text/x-python",
   "name": "python",
   "nbconvert_exporter": "python",
   "pygments_lexer": "ipython3",
   "version": "3.6.3"
  }
 },
 "nbformat": 4,
 "nbformat_minor": 2
}
