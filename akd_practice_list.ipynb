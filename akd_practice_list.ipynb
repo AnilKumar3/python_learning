{
 "cells": [
  {
   "cell_type": "code",
   "execution_count": null,
   "metadata": {},
   "outputs": [
    {
     "name": "stdout",
     "output_type": "stream",
     "text": [
      "['ANIL', 'Raj', 'Rak', 'Lish', 'Sam', 'Mish']\n",
      "['ANIL', 'RAJ', 'RAK', 'LISH', 'SAM', 'MISH']\n"
     ]
    }
   ],
   "source": [
    "family =[\"ANIL\", \"Raj\",\"Rak\",\"Lish\",\"Sam\", \"Mish\"]\n",
    "print (family)\n",
    "members=[]\n",
    "for member in family:\n",
    "    members.append(member.upper())\n",
    "print (members)    \n",
    "ans=\"Y\"\n",
    "while ans.strip()=='Y':\n",
    "    name=input(\"Enter the Name:\").strip().upper()\n",
    "    if name in members:\n",
    "        print (\"Hello Family members\")\n",
    "        reply=input(\"Would you like to remove from the list(y/n):\").strip().lower()\n",
    "        if reply=='y':\n",
    "            members.remove(name)\n",
    "    else:\n",
    "        print (\"Not recognised\")\n",
    "        reply=input(\"would you like to added in family list:(y/n):\").strip().lower()\n",
    "        if reply=='y':\n",
    "            name=input(\"Enter name:\").strip().upper()\n",
    "            members.append(name)\n",
    "    ans=input(\"Want to Continue(Y/N):\").upper().strip()\n"
   ]
  },
  {
   "cell_type": "code",
   "execution_count": null,
   "metadata": {
    "collapsed": true
   },
   "outputs": [],
   "source": []
  }
 ],
 "metadata": {
  "kernelspec": {
   "display_name": "Python 3",
   "language": "python",
   "name": "python3"
  },
  "language_info": {
   "codemirror_mode": {
    "name": "ipython",
    "version": 3
   },
   "file_extension": ".py",
   "mimetype": "text/x-python",
   "name": "python",
   "nbconvert_exporter": "python",
   "pygments_lexer": "ipython3",
   "version": "3.6.3"
  }
 },
 "nbformat": 4,
 "nbformat_minor": 2
}
