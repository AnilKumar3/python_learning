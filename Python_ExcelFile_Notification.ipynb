{
 "cells": [
  {
   "cell_type": "code",
   "execution_count": 19,
   "metadata": {},
   "outputs": [
    {
     "name": "stdout",
     "output_type": "stream",
     "text": [
      "6\n",
      "2018-04-01 00:00:00\n",
      "Payment is not paid for the 2018-02-01 00:00:00 month by Anil with email as akd43@hotmail.com\n",
      "Payment is not paid for the 2018-01-01 00:00:00 month by Dhawan with email as akd4343@gmail.com\n",
      "Payment is not paid for the 2018-02-01 00:00:00 month by usha with email as ankumar@expedia.com\n",
      "Payment is not paid for the 2018-04-01 00:00:00 month by usha with email as ankumar@expedia.com\n",
      "GOOD JOB!\n"
     ]
    }
   ],
   "source": [
    "# Read excel file and send notification for dues not paid \n",
    "#\n",
    "import openpyxl, smtplib, sys, os\n",
    "os.chdir('/Users/ankumar/Downloads/')\n",
    "os.getcwd()\n",
    "wb = openpyxl.load_workbook('Anil_File.xlsx')\n",
    "sheet=wb.get_sheet_by_name('Sheet1')\n",
    "lastCol=sheet.max_column\n",
    "lastMonth=sheet.cell(row=1, column=lastCol).value\n",
    "print (lastCol)\n",
    "print (lastMonth)\n",
    "unpaidMembers = {}\n",
    "for i in range (2, sheet.max_row+1):\n",
    "    for j in range (3, sheet.max_column+1):\n",
    "        payment = sheet.cell(row=i, column=j).value\n",
    "        \n",
    "        if payment !='paid':\n",
    "            name=sheet.cell(row=i, column=1).value\n",
    "            email=sheet.cell(row=i, column=2).value\n",
    "            month=sheet.cell (row=1, column=j).value\n",
    "            print ('Payment is not paid for the '+str(month)+' month by '+str(name)+' with email as '+str(email))\n",
    "            #print (name,email,month)\n",
    "print('GOOD JOB!') "
   ]
  },
  {
   "cell_type": "code",
   "execution_count": null,
   "metadata": {
    "collapsed": true
   },
   "outputs": [],
   "source": []
  }
 ],
 "metadata": {
  "kernelspec": {
   "display_name": "Python 3",
   "language": "python",
   "name": "python3"
  },
  "language_info": {
   "codemirror_mode": {
    "name": "ipython",
    "version": 3
   },
   "file_extension": ".py",
   "mimetype": "text/x-python",
   "name": "python",
   "nbconvert_exporter": "python",
   "pygments_lexer": "ipython3",
   "version": "3.6.3"
  }
 },
 "nbformat": 4,
 "nbformat_minor": 2
}
