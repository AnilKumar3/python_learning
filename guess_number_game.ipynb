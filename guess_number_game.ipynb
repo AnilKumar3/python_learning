{
 "cells": [
  {
   "cell_type": "code",
   "execution_count": 22,
   "metadata": {},
   "outputs": [
    {
     "name": "stdout",
     "output_type": "stream",
     "text": [
      "Do you want to play Game (Y/N):y\n",
      "Enter Number:5\n",
      "Actual number is high  10\n",
      "Enter Number:5\n",
      "Actual Number is less  4\n",
      "Enter Number:5\n",
      "Actual number is high  9\n",
      "Enter Number:5\n",
      "Actual number is high  10\n",
      "Enter Number:5\n",
      "Actual number is high  9\n",
      "Enter Number:5\n",
      "Actual Number is less  2\n",
      "Enter Number:5\n",
      "Actual Number is less  3\n",
      "Enter Number:5\n",
      "Actual Number is less  3\n",
      "Enter Number:5\n",
      "Actual Number is less  1\n",
      "Sorry you are out of Luck !!Try Again\n",
      "\n",
      "Do you want to play Game(Y/N):y\n",
      "Enter Number:5\n",
      "Actual number is high  6\n",
      "Enter Number:5\n",
      "God Job! you guess the number and actual number is  5\n",
      "\n",
      "Do you want to play Game(Y/N):n\n"
     ]
    }
   ],
   "source": [
    "#This program is to guess the number game!!!\n",
    "import random\n",
    "ans=input('Do you want to play Game (Y/N):').upper()\n",
    "while ans=='Y':\n",
    "    for counter in range (1,10):\n",
    "        snumber = random.randint(1,10)\n",
    "        gnumber=int(input('Enter Number:'))\n",
    "        if snumber < gnumber:\n",
    "            print (\"Actual Number is less \",snumber)\n",
    "        elif snumber > gnumber:\n",
    "            print (\"Actual number is high \",snumber)\n",
    "        else:\n",
    "            break\n",
    "    if snumber==gnumber:\n",
    "        print (\"God Job! you guess the number and actual number is \", snumber)\n",
    "    else:\n",
    "        print (\"Sorry you are out of Luck !!Try Again\")\n",
    "    print (\"\")\n",
    "    ans=str(input('Do you want to play Game(Y/N):')).upper()\n"
   ]
  },
  {
   "cell_type": "markdown",
   "metadata": {},
   "source": [
    "##### "
   ]
  }
 ],
 "metadata": {
  "kernelspec": {
   "display_name": "Python 3",
   "language": "python",
   "name": "python3"
  },
  "language_info": {
   "codemirror_mode": {
    "name": "ipython",
    "version": 3
   },
   "file_extension": ".py",
   "mimetype": "text/x-python",
   "name": "python",
   "nbconvert_exporter": "python",
   "pygments_lexer": "ipython3",
   "version": "3.6.3"
  }
 },
 "nbformat": 4,
 "nbformat_minor": 2
}
