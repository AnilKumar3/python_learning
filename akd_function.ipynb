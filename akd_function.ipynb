{
 "cells": [
  {
   "cell_type": "code",
   "execution_count": 11,
   "metadata": {},
   "outputs": [
    {
     "name": "stdout",
     "output_type": "stream",
     "text": [
      "15\n",
      "anil lives in bellevue and having 52 of age and staying the zip code 98006\n",
      "usha lives in bellevue and having 50 of age and staying the zip code 98006\n",
      "{'name': 'gauri', 'age': 21, 'zip': 98006}\n",
      "gauri lives in bellevue and having 21 of age and staying the zip code 98006\n",
      "[1, 2, 3, 4, 5]\n",
      "1 2 3 4 5\n"
     ]
    }
   ],
   "source": [
    "def add(x,y):\n",
    "    return x+y\n",
    "print (add(5,10))\n",
    "def about(name,age,zip):\n",
    "    sentense =\"{} lives in bellevue and having {} of age and staying the zip code {}\".format(name,age,zip)\n",
    "    return sentense\n",
    "print (about(\"anil\", 52, 98006))\n",
    "print (about (\"usha\",50, 98006))\n",
    "dictionery={\"name\":\"gauri\", \"age\":21, \"zip\":98006}\n",
    "print (dictionery)\n",
    "## * normal arg --  ** keyvalue arg\n",
    "print (about(**dictionery))\n",
    "number=[1,2,3,4,5]\n",
    "print (number)\n",
    "print (*number)\n"
   ]
  },
  {
   "cell_type": "code",
   "execution_count": null,
   "metadata": {
    "collapsed": true
   },
   "outputs": [],
   "source": []
  }
 ],
 "metadata": {
  "kernelspec": {
   "display_name": "Python 3",
   "language": "python",
   "name": "python3"
  },
  "language_info": {
   "codemirror_mode": {
    "name": "ipython",
    "version": 3
   },
   "file_extension": ".py",
   "mimetype": "text/x-python",
   "name": "python",
   "nbconvert_exporter": "python",
   "pygments_lexer": "ipython3",
   "version": "3.6.3"
  }
 },
 "nbformat": 4,
 "nbformat_minor": 2
}
