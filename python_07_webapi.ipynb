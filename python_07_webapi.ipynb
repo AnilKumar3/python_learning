{
 "cells": [
  {
   "cell_type": "code",
   "execution_count": 7,
   "metadata": {},
   "outputs": [
    {
     "name": "stdout",
     "output_type": "stream",
     "text": [
      "{\n",
      "  \"coord\": {\n",
      "    \"lon\": 139,\n",
      "    \"lat\": 35\n",
      "  },\n",
      "  \"weather\": [\n",
      "    {\n",
      "      \"id\": 804,\n",
      "      \"main\": \"Clouds\",\n",
      "      \"description\": \"overcast clouds\",\n",
      "      \"icon\": \"https://cdn.glitch.com/6e8889e5-7a72-48f0-a061-863548450de5%2F04n.png?1499366020983\"\n",
      "    }\n",
      "  ],\n",
      "  \"base\": \"stations\",\n",
      "  \"main\": {\n",
      "    \"temp\": 21.93,\n",
      "    \"pressure\": 1024.35,\n",
      "    \"humidity\": 100,\n",
      "    \"temp_min\": 21.93,\n",
      "    \"temp_max\": 21.93,\n",
      "    \"sea_level\": 1033.47,\n",
      "    \"grnd_level\": 1024.35\n",
      "  },\n",
      "  \"wind\": {\n",
      "    \"speed\": 1.97,\n",
      "    \"deg\": 44.5017\n",
      "  },\n",
      "  \"clouds\": {\n",
      "    \"all\": 92\n",
      "  },\n",
      "  \"dt\": 1538519592,\n",
      "  \"sys\": {\n",
      "    \"message\": 0.0034,\n",
      "    \"country\": \"JP\",\n",
      "    \"sunrise\": 1538426387,\n",
      "    \"sunset\": 1538468763\n",
      "  },\n",
      "  \"id\": 1851632,\n",
      "  \"name\": \"Shuzenji\",\n",
      "  \"cod\": 200\n",
      "}\n"
     ]
    }
   ],
   "source": [
    "import json\n",
    "from urllib.request import urlopen\n",
    "with urlopen(\"https://fcc-weather-api.glitch.me/api/current?lat=35&lon=139\") as response:\n",
    "    source=response.read()\n",
    "#print (source)\n",
    "data = json.loads(source)\n",
    "print (json.dumps(data, indent=2))"
   ]
  },
  {
   "cell_type": "code",
   "execution_count": null,
   "metadata": {
    "collapsed": true
   },
   "outputs": [],
   "source": []
  }
 ],
 "metadata": {
  "kernelspec": {
   "display_name": "Python 3",
   "language": "python",
   "name": "python3"
  },
  "language_info": {
   "codemirror_mode": {
    "name": "ipython",
    "version": 3
   },
   "file_extension": ".py",
   "mimetype": "text/x-python",
   "name": "python",
   "nbconvert_exporter": "python",
   "pygments_lexer": "ipython3",
   "version": "3.6.3"
  }
 },
 "nbformat": 4,
 "nbformat_minor": 2
}
