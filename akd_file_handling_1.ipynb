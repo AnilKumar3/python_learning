{
 "cells": [
  {
   "cell_type": "code",
   "execution_count": 33,
   "metadata": {},
   "outputs": [
    {
     "name": "stdout",
     "output_type": "stream",
     "text": [
      "['.account', '.anaconda', '.bash_history', '.bash_profile', '.bash_profile-anaconda3.bak', '.bash_sessions', '.CFUserTextEncoding', '.conda', '.condarc', '.cufflinks', '.cups', '.DS_Store', '.ipynb_checkpoints', '.ipython', '.jupyter', '.keras', '.matplotlib', '.oracle_jre_usage', '.plotly', '.python_history', '.Rapp.history', '.Rhistory', '.rstudio-desktop', '.spyder-py3', '.ssh', '.subversion', '.Trash', '.user', '.viminfo', '.vnc', 'a.txt', 'akd_file_handling_1.ipynb', 'akd_linear_regression_1.ipynb', 'AnacondaProjects', 'anew.txt', 'Applications', 'Desktop', 'Documents', 'Downloads', 'Library', 'Movies', 'Music', 'nltk_data', 'output', 'Pictures', 'Public', 'python', 'Salaries.csv', 'seaborn-data', 'ted_main.csv', 'tmp', 'Untitled Folder', 'untitled.txt', 'Users', 'win']\n"
     ]
    },
    {
     "data": {
      "text/plain": [
       "'created new file\\n0\\n1\\n2\\n3\\n4\\n5\\n6\\n7\\n8\\n9\\n'"
      ]
     },
     "execution_count": 33,
     "metadata": {},
     "output_type": "execute_result"
    }
   ],
   "source": [
    "#handling files\n",
    "import os\n",
    "\n",
    "##List dir\n",
    "print (os.listdir(\"/Users/ankumar\"))\n",
    "\n",
    "# to check path exists\n",
    "#os.path.exists (\"/Users/ankumar/\")\n",
    "#os.path.isdir ((\"/Users/ankumar/\"))\n",
    "#open, read and display content \n",
    "ofile=open(\"/Users/ankumar/a.txt\")\n",
    "rfile=ofile.read()\n",
    "rfile\n",
    "\n",
    "#open file for write --a for append\n",
    "wfile=open(\"/Users/ankumar/anew.txt\",'w')\n",
    "wfile.write('created new file\\n')\n",
    "wfile.close()\n",
    "wfile=open(\"/Users/ankumar/anew.txt\",'a')\n",
    "##rnfile=wfile.read()\n",
    "##rnfile\n",
    "for count in range (10):\n",
    "  wfile.write(str(count)+'\\n')\n",
    "wfile.close()\n",
    "wfile=open(\"/Users/ankumar/anew.txt\")\n",
    "rnfile=wfile.read()\n",
    "rnfile\n",
    "\n"
   ]
  },
  {
   "cell_type": "code",
   "execution_count": null,
   "metadata": {
    "collapsed": true
   },
   "outputs": [],
   "source": []
  }
 ],
 "metadata": {
  "kernelspec": {
   "display_name": "Python 3",
   "language": "python",
   "name": "python3"
  },
  "language_info": {
   "codemirror_mode": {
    "name": "ipython",
    "version": 3
   },
   "file_extension": ".py",
   "mimetype": "text/x-python",
   "name": "python",
   "nbconvert_exporter": "python",
   "pygments_lexer": "ipython3",
   "version": "3.6.3"
  }
 },
 "nbformat": 4,
 "nbformat_minor": 2
}
