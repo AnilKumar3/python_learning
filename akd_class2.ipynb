{
 "cells": [
  {
   "cell_type": "code",
   "execution_count": 1,
   "metadata": {},
   "outputs": [
    {
     "name": "stdout",
     "output_type": "stream",
     "text": [
      "1.0\n",
      "1.0\n",
      "gold\n"
     ]
    }
   ],
   "source": [
    "import random\n",
    "\n",
    "#class practice\n",
    "class rscoin:\n",
    "    def __init__(self,rare=False):\n",
    "        self.rare = rare\n",
    "        if self.rare:\n",
    "            self.value=1.25\n",
    "        else:\n",
    "            self.value=1.0       \n",
    "        self.color=\"gold\"\n",
    "        self.thick=2.5\n",
    "        self.dia=2\n",
    "        self.head=True\n",
    " \n",
    "    def rust(self):\n",
    "        self.color='green'\n",
    "        \n",
    "coin1=rscoin()\n",
    "coin1.rust\n",
    "coin2=rscoin()\n",
    "coin2.rare\n",
    "coin3=rscoin()\n",
    "coin3.rust\n",
    "print (coin1.value)\n",
    "print (coin2.value)\n",
    "print (coin3.color)\n"
   ]
  },
  {
   "cell_type": "code",
   "execution_count": null,
   "metadata": {
    "collapsed": true
   },
   "outputs": [],
   "source": []
  }
 ],
 "metadata": {
  "kernelspec": {
   "display_name": "Python 3",
   "language": "python",
   "name": "python3"
  },
  "language_info": {
   "codemirror_mode": {
    "name": "ipython",
    "version": 3
   },
   "file_extension": ".py",
   "mimetype": "text/x-python",
   "name": "python",
   "nbconvert_exporter": "python",
   "pygments_lexer": "ipython3",
   "version": "3.6.3"
  }
 },
 "nbformat": 4,
 "nbformat_minor": 2
}
