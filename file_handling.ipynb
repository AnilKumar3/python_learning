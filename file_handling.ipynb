{
 "cells": [
  {
   "cell_type": "markdown",
   "metadata": {},
   "source": [
    "### python file handling"
   ]
  },
  {
   "cell_type": "code",
   "execution_count": 49,
   "metadata": {},
   "outputs": [
    {
     "name": "stdout",
     "output_type": "stream",
     "text": [
      "Enter Fruit name:apple\n",
      "fruits in the list\n",
      "['apple', 'banana', 'grapes', 'gauva', 'cherry', 'plum']\n"
     ]
    }
   ],
   "source": [
    "myfile=open(\"/Users/ankumar/Documents/DataScience/ML_Practice/myfile.txt\")\n",
    "fruits=myfile.read()\n",
    "txt=input (\"Enter Fruit name:\")\n",
    "fruits=fruits.splitlines()\n",
    "#print (content)\n",
    "#myfile.seek(0)\n",
    "#myfile.read()\n",
    "\n",
    "if txt in fruits:\n",
    "    print ('fruits in the list')\n",
    "    print (fruits)\n",
    "    "
   ]
  },
  {
   "cell_type": "code",
   "execution_count": 64,
   "metadata": {},
   "outputs": [],
   "source": [
    "###File handling with context manager\n",
    "with open(\"/Users/ankumar/Documents/DataScience/ML_Practice/myfile.txt\", 'a') as myfile:\n",
    "    myfile.write('\\nRandom text3')\n",
    "    myfile.write('\\nRandom text4')   \n"
   ]
  },
  {
   "cell_type": "code",
   "execution_count": 65,
   "metadata": {},
   "outputs": [
    {
     "name": "stdout",
     "output_type": "stream",
     "text": [
      "apple\n",
      "banana\n",
      "grapes\n",
      "gauva\n",
      "cherry\n",
      "plum\n",
      "Random textRandom text1Random text2Random text1Random text2Random text1Random text2\n",
      "Random text1\n",
      "Random text2\n",
      "Random text3\n",
      "Random text4\n"
     ]
    }
   ],
   "source": [
    "myfile=open(\"/Users/ankumar/Documents/DataScience/ML_Practice/myfile.txt\")\n",
    "print (myfile.read())\n",
    "#print (content1)\n"
   ]
  },
  {
   "cell_type": "code",
   "execution_count": 25,
   "metadata": {},
   "outputs": [
    {
     "name": "stdout",
     "output_type": "stream",
     "text": [
      "1\n",
      "2\n",
      "3\n",
      "4\n",
      "5\n"
     ]
    }
   ],
   "source": [
    "mylist = [1,2,3,4,5]\n",
    "for i in mylist:\n",
    "    print (i)"
   ]
  },
  {
   "cell_type": "code",
   "execution_count": 35,
   "metadata": {},
   "outputs": [
    {
     "name": "stdout",
     "output_type": "stream",
     "text": [
      "Terribly Tricky\n",
      "T\n",
      "r\n",
      "i\n",
      "c\n",
      "k\n",
      "y\n",
      "Hello Prabhu JI\n",
      "b\n",
      "h\n",
      "u\n",
      " \n",
      "J\n",
      "I\n"
     ]
    }
   ],
   "source": [
    "mylist = [\"Terribly Tricky\",\"Hello Prabhu JI\"] \n",
    "for word in mylist:\n",
    "    print (word)\n",
    "    for letter in word[-6:]:\n",
    "        print(letter)"
   ]
  },
  {
   "cell_type": "code",
   "execution_count": 38,
   "metadata": {},
   "outputs": [
    {
     "name": "stdout",
     "output_type": "stream",
     "text": [
      "[1, 2, 3, 4, 5]\n",
      "3\n",
      "4\n",
      "5\n"
     ]
    }
   ],
   "source": [
    "mylist = [1, 2, 3, 4, 5] \n",
    "print (mylist)\n",
    "for item in mylist[-3:]:\n",
    "    print (item)"
   ]
  },
  {
   "cell_type": "code",
   "execution_count": 47,
   "metadata": {},
   "outputs": [
    {
     "name": "stdout",
     "output_type": "stream",
     "text": [
      "5\n",
      "6\n",
      "6\n",
      "5\n",
      "6\n",
      "4\n"
     ]
    }
   ],
   "source": [
    "myfile=open(\"/Users/ankumar/Documents/DataScience/ML_Practice/myfile.txt\")\n",
    "#print (myfile.read())\n",
    "for item in myfile:\n",
    "    print (len(item)-1)"
   ]
  },
  {
   "cell_type": "code",
   "execution_count": 48,
   "metadata": {},
   "outputs": [
    {
     "name": "stdout",
     "output_type": "stream",
     "text": [
      "5\n",
      "6\n",
      "6\n",
      "5\n",
      "6\n",
      "4\n"
     ]
    }
   ],
   "source": [
    "myfile=open(\"/Users/ankumar/Documents/DataScience/ML_Practice/myfile.txt\")\n",
    "content = myfile.read()\n",
    "myfile.close()\n",
    "content = content.splitlines()\n",
    "for i in content:\n",
    "     print(len(i))"
   ]
  },
  {
   "cell_type": "code",
   "execution_count": null,
   "metadata": {},
   "outputs": [],
   "source": []
  }
 ],
 "metadata": {
  "kernelspec": {
   "display_name": "Python [conda env:AKD_Practice]",
   "language": "python",
   "name": "conda-env-AKD_Practice-py"
  },
  "language_info": {
   "codemirror_mode": {
    "name": "ipython",
    "version": 3
   },
   "file_extension": ".py",
   "mimetype": "text/x-python",
   "name": "python",
   "nbconvert_exporter": "python",
   "pygments_lexer": "ipython3",
   "version": "3.5.5"
  }
 },
 "nbformat": 4,
 "nbformat_minor": 2
}
