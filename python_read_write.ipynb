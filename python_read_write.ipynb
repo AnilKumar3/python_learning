{
 "cells": [
  {
   "cell_type": "code",
   "execution_count": 16,
   "metadata": {},
   "outputs": [
    {
     "name": "stdout",
     "output_type": "stream",
     "text": [
      "/Users/ankumar\n",
      "created new file\n",
      "0\n",
      "1\n",
      "2\n",
      "3\n",
      "4\n",
      "5\n",
      "6\n",
      "7\n",
      "8\n",
      "9\n",
      "\n",
      "['.account', '.anaconda', '.bash_history', '.bash_profile', '.bash_profile-anaconda3.bak', '.bash_sessions', '.CFUserTextEncoding', '.conda', '.condarc', '.cufflinks', '.cups', '.DS_Store', '.idlerc', '.ipynb_checkpoints', '.ipython', '.jupyter', '.keras', '.kube', '.local', '.matplotlib', '.oracle_jre_usage', '.plotly', '.python_history', '.Rapp.history', '.Rhistory', '.rstudio-desktop', '.spyder-py3', '.ssh', '.subversion', '.Trash', '.user', '.viminfo', '.vnc', 'a.txt', 'akd_linear_regression_1.ipynb', 'AnacondaProjects', 'anew.txt', 'Applications', 'bnew.txt', 'datasets', 'Desktop', 'Documents', 'Downloads', 'KNN.ipynb', 'Library', 'ML_Practice_1.ipynb', 'Movies', 'Music', 'nltk_data', 'output', 'Pictures', 'Prog1.ipynb', 'Prog_2.ipynb', 'Prog_3(Pattern Matching).ipynb', 'Public', 'python', 'python_read_write.ipynb', 'Salaries.csv', 'seaborn-data', 'ted_main.csv', 'tmp', 'Untitled Folder', 'Untitled Folder 1', 'Untitled Folder 2', 'Untitled.ipynb', 'untitled.txt', 'Untitled1.ipynb', 'untitled1.txt', 'Untitled10.ipynb', 'Untitled11.ipynb', 'Untitled12.ipynb', 'Untitled13.ipynb', 'Untitled14.ipynb', 'Untitled15.ipynb', 'Untitled16.ipynb', 'Untitled17.ipynb', 'Untitled18.ipynb', 'Untitled2.ipynb', 'Untitled3.ipynb', 'Untitled4.ipynb', 'Untitled5.ipynb', 'Untitled6.ipynb', 'Untitled7.ipynb', 'Untitled8.ipynb', 'Untitled9.ipynb', 'Users', 'venv', 'win']\n",
      "\n"
     ]
    }
   ],
   "source": [
    "#Reading and writting to files\n",
    "import os\n",
    "os.path.abspath('/Users/ankumar/')\n",
    "print (os.getcwd())\n",
    "newreadfile=open('/Users/ankumar/anew.txt')\n",
    "newreadfilecontent=newreadfile.read()\n",
    "print(newreadfilecontent)\n",
    "print(os.listdir())\n",
    "wfile=open('/Users/ankumar/bnew.txt','w')\n",
    "wfile.write('Hello I am new to python')\n",
    "newwritefile=open('/Users/ankumar/bnew.txt')\n",
    "newwritefilecontent=newwritefile.read()\n",
    "print (newwritefilecontent)\n",
    "newwritefile.close()"
   ]
  },
  {
   "cell_type": "code",
   "execution_count": null,
   "metadata": {
    "collapsed": true
   },
   "outputs": [],
   "source": []
  }
 ],
 "metadata": {
  "kernelspec": {
   "display_name": "Python 3",
   "language": "python",
   "name": "python3"
  },
  "language_info": {
   "codemirror_mode": {
    "name": "ipython",
    "version": 3
   },
   "file_extension": ".py",
   "mimetype": "text/x-python",
   "name": "python",
   "nbconvert_exporter": "python",
   "pygments_lexer": "ipython3",
   "version": "3.6.3"
  }
 },
 "nbformat": 4,
 "nbformat_minor": 2
}
