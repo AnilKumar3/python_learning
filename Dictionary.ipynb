{
 "cells": [
  {
   "cell_type": "code",
   "execution_count": 59,
   "metadata": {},
   "outputs": [
    {
     "name": "stdout",
     "output_type": "stream",
     "text": [
      "Enter word:rain\n",
      "\n",
      "['Precipitation in the form of liquid water drops with diameters greater than 0.5 millimetres.', 'To fall from the clouds in drops of water.']\n",
      "Want to continue (y/n):y\n",
      "Enter word:holiday\n",
      "\n",
      "['A day on which work is suspended by law or custom, such as a religious festival, bank holiday, etc.']\n",
      "Want to continue (y/n):Y\n",
      "Enter word:Bellevue\n",
      "Word not found, do you mean ** believe ** instead, Enter Y or N y\n",
      "\n",
      "['To have as opinion, belief, or idea.', 'To be confident about something.', 'To give something for certain although unproven by science; to have faith.', 'To consider what someone is telling as being the truth; to accept as or take to be true.']\n",
      "Want to continue (y/n):Y\n",
      "Enter word:seattle\n",
      "Word not found, do you mean ** settle ** instead, Enter Y or N y\n",
      "\n",
      "['To cause a boat to go down in the water.', 'To have permanent residence.', 'To bring to an end; to settle conclusively.', 'To bring to an agreement.', 'To establish a colony.', 'To come to an agreement or settlement of a dispute or argument, to attempt to sort something out between parties or to settle a case, to finish animosities.']\n",
      "Want to continue (y/n):y\n",
      "Enter word:beleive\n",
      "Word not found, do you mean ** believe ** instead, Enter Y or N y\n",
      "\n",
      "['To have as opinion, belief, or idea.', 'To be confident about something.', 'To give something for certain although unproven by science; to have faith.', 'To consider what someone is telling as being the truth; to accept as or take to be true.']\n",
      "Want to continue (y/n):n\n"
     ]
    }
   ],
   "source": [
    "## read json dictionery file\n",
    "## find meaning\n",
    "import json\n",
    "data=json.load(open(\"/Users/ankumar/Downloads/data.json\"))\n",
    "from difflib import get_close_matches\n",
    "def translate(w):\n",
    "    w=w.lower()\n",
    "    if w in data:\n",
    "        return data[w]\n",
    "    elif len(get_close_matches(w,data.keys()))>0:\n",
    "        yn=input(\"Word not found, do you mean ** %s ** instead, Enter Y or N \" % get_close_matches(w, data.keys())[0])\n",
    "        if yn.lower()=='y':\n",
    "            return data[get_close_matches(w, data.keys())[0]]\n",
    "        elif yn.lower()=='n':\n",
    "            print ('word does not exits please check again')\n",
    "        else:\n",
    "            print ('We did not understand your entry. please try again')\n",
    "            \n",
    "ans='y'\n",
    "while ans=='y':\n",
    "    \n",
    "    word=input(\"Enter word:\")\n",
    "    output=translate(word)\n",
    "    print (\"\")\n",
    "    print (output)\n",
    "    cont = input (\"Want to continue (y/n):\")\n",
    "    if cont.lower() == 'n':\n",
    "        ans='n'\n"
   ]
  },
  {
   "cell_type": "code",
   "execution_count": 6,
   "metadata": {},
   "outputs": [
    {
     "ename": "NameError",
     "evalue": "name 'read' is not defined",
     "output_type": "error",
     "traceback": [
      "\u001b[0;31m---------------------------------------------------------------------------\u001b[0m",
      "\u001b[0;31mNameError\u001b[0m                                 Traceback (most recent call last)",
      "\u001b[0;32m<ipython-input-6-5d08e0ec3e2c>\u001b[0m in \u001b[0;36m<module>\u001b[0;34m()\u001b[0m\n\u001b[0;32m----> 1\u001b[0;31m \u001b[0mprint\u001b[0m \u001b[0;34m(\u001b[0m\u001b[0mread\u001b[0m\u001b[0;34m(\u001b[0m\u001b[0mdata\u001b[0m\u001b[0;34m)\u001b[0m\u001b[0;34m)\u001b[0m\u001b[0;34m\u001b[0m\u001b[0m\n\u001b[0m",
      "\u001b[0;31mNameError\u001b[0m: name 'read' is not defined"
     ]
    }
   ],
   "source": []
  },
  {
   "cell_type": "code",
   "execution_count": null,
   "metadata": {},
   "outputs": [],
   "source": []
  }
 ],
 "metadata": {
  "kernelspec": {
   "display_name": "Python [conda env:AKD_Practice]",
   "language": "python",
   "name": "conda-env-AKD_Practice-py"
  },
  "language_info": {
   "codemirror_mode": {
    "name": "ipython",
    "version": 3
   },
   "file_extension": ".py",
   "mimetype": "text/x-python",
   "name": "python",
   "nbconvert_exporter": "python",
   "pygments_lexer": "ipython3",
   "version": "3.5.5"
  }
 },
 "nbformat": 4,
 "nbformat_minor": 2
}
